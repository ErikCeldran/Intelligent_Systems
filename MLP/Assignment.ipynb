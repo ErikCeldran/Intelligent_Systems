{
 "cells": [
  {
   "cell_type": "markdown",
   "metadata": {},
   "source": [
    "# Applications of MLP"
   ]
  },
  {
   "cell_type": "markdown",
   "metadata": {
    "colab_type": "text",
    "id": "gWZyYmS_UE_L"
   },
   "source": [
    "### Importing the libraries"
   ]
  },
  {
   "cell_type": "code",
   "execution_count": 2,
   "metadata": {
    "colab": {},
    "colab_type": "code",
    "id": "MxkJoQBkUIHC"
   },
   "outputs": [],
   "source": [
    "import numpy as np\n",
    "import pandas as pd\n",
    "import tensorflow as tf\n",
    "import category_encoders as ce"
   ]
  },
  {
   "cell_type": "code",
   "execution_count": null,
   "metadata": {
    "colab": {
     "base_uri": "https://localhost:8080/",
     "height": 34
    },
    "colab_type": "code",
    "id": "ZaTwK7ojXr2F",
    "outputId": "0b27a96d-d11a-43e8-ab4b-87c1f01896fe"
   },
   "outputs": [],
   "source": [
    "tf.__version__"
   ]
  },
  {
   "cell_type": "markdown",
   "metadata": {
    "colab_type": "text",
    "id": "1E0Q3aoKUCRX"
   },
   "source": [
    "## Part 1 - Data Preprocessing"
   ]
  },
  {
   "cell_type": "markdown",
   "metadata": {
    "colab_type": "text",
    "id": "cKWAkFVGUU0Z"
   },
   "source": [
    "### Importing the dataset"
   ]
  },
  {
   "cell_type": "code",
   "execution_count": 4,
   "metadata": {
    "colab": {},
    "colab_type": "code",
    "id": "MXUkhkMfU4wq"
   },
   "outputs": [],
   "source": [
    "dataset = pd.read_csv('diabetes_prediction_dataset.csv')"
   ]
  },
  {
   "cell_type": "code",
   "execution_count": 5,
   "metadata": {},
   "outputs": [
    {
     "data": {
      "text/html": [
       "<div>\n",
       "<style scoped>\n",
       "    .dataframe tbody tr th:only-of-type {\n",
       "        vertical-align: middle;\n",
       "    }\n",
       "\n",
       "    .dataframe tbody tr th {\n",
       "        vertical-align: top;\n",
       "    }\n",
       "\n",
       "    .dataframe thead th {\n",
       "        text-align: right;\n",
       "    }\n",
       "</style>\n",
       "<table border=\"1\" class=\"dataframe\">\n",
       "  <thead>\n",
       "    <tr style=\"text-align: right;\">\n",
       "      <th></th>\n",
       "      <th>gender</th>\n",
       "      <th>age</th>\n",
       "      <th>hypertension</th>\n",
       "      <th>heart_disease</th>\n",
       "      <th>smoking_history</th>\n",
       "      <th>bmi</th>\n",
       "      <th>HbA1c_level</th>\n",
       "      <th>blood_glucose_level</th>\n",
       "      <th>diabetes</th>\n",
       "    </tr>\n",
       "  </thead>\n",
       "  <tbody>\n",
       "    <tr>\n",
       "      <th>0</th>\n",
       "      <td>Female</td>\n",
       "      <td>80.0</td>\n",
       "      <td>0</td>\n",
       "      <td>1</td>\n",
       "      <td>never</td>\n",
       "      <td>25.19</td>\n",
       "      <td>6.6</td>\n",
       "      <td>140</td>\n",
       "      <td>0</td>\n",
       "    </tr>\n",
       "    <tr>\n",
       "      <th>1</th>\n",
       "      <td>Female</td>\n",
       "      <td>54.0</td>\n",
       "      <td>0</td>\n",
       "      <td>0</td>\n",
       "      <td>No Info</td>\n",
       "      <td>27.32</td>\n",
       "      <td>6.6</td>\n",
       "      <td>80</td>\n",
       "      <td>0</td>\n",
       "    </tr>\n",
       "    <tr>\n",
       "      <th>2</th>\n",
       "      <td>Male</td>\n",
       "      <td>28.0</td>\n",
       "      <td>0</td>\n",
       "      <td>0</td>\n",
       "      <td>never</td>\n",
       "      <td>27.32</td>\n",
       "      <td>5.7</td>\n",
       "      <td>158</td>\n",
       "      <td>0</td>\n",
       "    </tr>\n",
       "    <tr>\n",
       "      <th>3</th>\n",
       "      <td>Female</td>\n",
       "      <td>36.0</td>\n",
       "      <td>0</td>\n",
       "      <td>0</td>\n",
       "      <td>current</td>\n",
       "      <td>23.45</td>\n",
       "      <td>5.0</td>\n",
       "      <td>155</td>\n",
       "      <td>0</td>\n",
       "    </tr>\n",
       "    <tr>\n",
       "      <th>4</th>\n",
       "      <td>Male</td>\n",
       "      <td>76.0</td>\n",
       "      <td>1</td>\n",
       "      <td>1</td>\n",
       "      <td>current</td>\n",
       "      <td>20.14</td>\n",
       "      <td>4.8</td>\n",
       "      <td>155</td>\n",
       "      <td>0</td>\n",
       "    </tr>\n",
       "    <tr>\n",
       "      <th>...</th>\n",
       "      <td>...</td>\n",
       "      <td>...</td>\n",
       "      <td>...</td>\n",
       "      <td>...</td>\n",
       "      <td>...</td>\n",
       "      <td>...</td>\n",
       "      <td>...</td>\n",
       "      <td>...</td>\n",
       "      <td>...</td>\n",
       "    </tr>\n",
       "    <tr>\n",
       "      <th>99995</th>\n",
       "      <td>Female</td>\n",
       "      <td>80.0</td>\n",
       "      <td>0</td>\n",
       "      <td>0</td>\n",
       "      <td>No Info</td>\n",
       "      <td>27.32</td>\n",
       "      <td>6.2</td>\n",
       "      <td>90</td>\n",
       "      <td>0</td>\n",
       "    </tr>\n",
       "    <tr>\n",
       "      <th>99996</th>\n",
       "      <td>Female</td>\n",
       "      <td>2.0</td>\n",
       "      <td>0</td>\n",
       "      <td>0</td>\n",
       "      <td>No Info</td>\n",
       "      <td>17.37</td>\n",
       "      <td>6.5</td>\n",
       "      <td>100</td>\n",
       "      <td>0</td>\n",
       "    </tr>\n",
       "    <tr>\n",
       "      <th>99997</th>\n",
       "      <td>Male</td>\n",
       "      <td>66.0</td>\n",
       "      <td>0</td>\n",
       "      <td>0</td>\n",
       "      <td>former</td>\n",
       "      <td>27.83</td>\n",
       "      <td>5.7</td>\n",
       "      <td>155</td>\n",
       "      <td>0</td>\n",
       "    </tr>\n",
       "    <tr>\n",
       "      <th>99998</th>\n",
       "      <td>Female</td>\n",
       "      <td>24.0</td>\n",
       "      <td>0</td>\n",
       "      <td>0</td>\n",
       "      <td>never</td>\n",
       "      <td>35.42</td>\n",
       "      <td>4.0</td>\n",
       "      <td>100</td>\n",
       "      <td>0</td>\n",
       "    </tr>\n",
       "    <tr>\n",
       "      <th>99999</th>\n",
       "      <td>Female</td>\n",
       "      <td>57.0</td>\n",
       "      <td>0</td>\n",
       "      <td>0</td>\n",
       "      <td>current</td>\n",
       "      <td>22.43</td>\n",
       "      <td>6.6</td>\n",
       "      <td>90</td>\n",
       "      <td>0</td>\n",
       "    </tr>\n",
       "  </tbody>\n",
       "</table>\n",
       "<p>100000 rows × 9 columns</p>\n",
       "</div>"
      ],
      "text/plain": [
       "       gender   age  hypertension  heart_disease smoking_history    bmi  \\\n",
       "0      Female  80.0             0              1           never  25.19   \n",
       "1      Female  54.0             0              0         No Info  27.32   \n",
       "2        Male  28.0             0              0           never  27.32   \n",
       "3      Female  36.0             0              0         current  23.45   \n",
       "4        Male  76.0             1              1         current  20.14   \n",
       "...       ...   ...           ...            ...             ...    ...   \n",
       "99995  Female  80.0             0              0         No Info  27.32   \n",
       "99996  Female   2.0             0              0         No Info  17.37   \n",
       "99997    Male  66.0             0              0          former  27.83   \n",
       "99998  Female  24.0             0              0           never  35.42   \n",
       "99999  Female  57.0             0              0         current  22.43   \n",
       "\n",
       "       HbA1c_level  blood_glucose_level  diabetes  \n",
       "0              6.6                  140         0  \n",
       "1              6.6                   80         0  \n",
       "2              5.7                  158         0  \n",
       "3              5.0                  155         0  \n",
       "4              4.8                  155         0  \n",
       "...            ...                  ...       ...  \n",
       "99995          6.2                   90         0  \n",
       "99996          6.5                  100         0  \n",
       "99997          5.7                  155         0  \n",
       "99998          4.0                  100         0  \n",
       "99999          6.6                   90         0  \n",
       "\n",
       "[100000 rows x 9 columns]"
      ]
     },
     "execution_count": 5,
     "metadata": {},
     "output_type": "execute_result"
    }
   ],
   "source": [
    "dataset"
   ]
  },
  {
   "cell_type": "code",
   "execution_count": 17,
   "metadata": {},
   "outputs": [
    {
     "name": "stdout",
     "output_type": "stream",
     "text": [
      "       gender_Female  gender_Male  gender_Other   age  hypertension  \\\n",
      "0                1.0          0.0           0.0  80.0             0   \n",
      "1                1.0          0.0           0.0  54.0             0   \n",
      "2                0.0          1.0           0.0  28.0             0   \n",
      "3                1.0          0.0           0.0  36.0             0   \n",
      "4                0.0          1.0           0.0  76.0             1   \n",
      "...              ...          ...           ...   ...           ...   \n",
      "99995            1.0          0.0           0.0  80.0             0   \n",
      "99996            1.0          0.0           0.0   2.0             0   \n",
      "99997            0.0          1.0           0.0  66.0             0   \n",
      "99998            1.0          0.0           0.0  24.0             0   \n",
      "99999            1.0          0.0           0.0  57.0             0   \n",
      "\n",
      "       heart_disease  smoking_history_never  smoking_history_No Info  \\\n",
      "0                  1                    1.0                      0.0   \n",
      "1                  0                    0.0                      1.0   \n",
      "2                  0                    1.0                      0.0   \n",
      "3                  0                    0.0                      0.0   \n",
      "4                  1                    0.0                      0.0   \n",
      "...              ...                    ...                      ...   \n",
      "99995              0                    0.0                      1.0   \n",
      "99996              0                    0.0                      1.0   \n",
      "99997              0                    0.0                      0.0   \n",
      "99998              0                    1.0                      0.0   \n",
      "99999              0                    0.0                      0.0   \n",
      "\n",
      "       smoking_history_current  smoking_history_former  smoking_history_ever  \\\n",
      "0                          0.0                     0.0                   0.0   \n",
      "1                          0.0                     0.0                   0.0   \n",
      "2                          0.0                     0.0                   0.0   \n",
      "3                          1.0                     0.0                   0.0   \n",
      "4                          1.0                     0.0                   0.0   \n",
      "...                        ...                     ...                   ...   \n",
      "99995                      0.0                     0.0                   0.0   \n",
      "99996                      0.0                     0.0                   0.0   \n",
      "99997                      0.0                     1.0                   0.0   \n",
      "99998                      0.0                     0.0                   0.0   \n",
      "99999                      1.0                     0.0                   0.0   \n",
      "\n",
      "       smoking_history_not current    bmi  HbA1c_level  blood_glucose_level  \\\n",
      "0                              0.0  25.19          6.6                  140   \n",
      "1                              0.0  27.32          6.6                   80   \n",
      "2                              0.0  27.32          5.7                  158   \n",
      "3                              0.0  23.45          5.0                  155   \n",
      "4                              0.0  20.14          4.8                  155   \n",
      "...                            ...    ...          ...                  ...   \n",
      "99995                          0.0  27.32          6.2                   90   \n",
      "99996                          0.0  17.37          6.5                  100   \n",
      "99997                          0.0  27.83          5.7                  155   \n",
      "99998                          0.0  35.42          4.0                  100   \n",
      "99999                          0.0  22.43          6.6                   90   \n",
      "\n",
      "       diabetes  \n",
      "0             0  \n",
      "1             0  \n",
      "2             0  \n",
      "3             0  \n",
      "4             0  \n",
      "...         ...  \n",
      "99995         0  \n",
      "99996         0  \n",
      "99997         0  \n",
      "99998         0  \n",
      "99999         0  \n",
      "\n",
      "[100000 rows x 16 columns]\n"
     ]
    }
   ],
   "source": [
    "encoder=ce.OneHotEncoder(cols=['gender','smoking_history'],handle_unknown='return_nan',return_df=True,use_cat_names=True)\n",
    "#Fit and transform Data\n",
    "dataset_encoded = encoder.fit_transform(dataset)\n",
    "print(dataset_encoded)"
   ]
  },
  {
   "cell_type": "code",
   "execution_count": 27,
   "metadata": {},
   "outputs": [],
   "source": [
    "X = dataset_encoded.iloc[:, 0:-1].values\n",
    "y = dataset_encoded.iloc[:, -1].values"
   ]
  },
  {
   "cell_type": "code",
   "execution_count": 28,
   "metadata": {},
   "outputs": [
    {
     "data": {
      "text/html": [
       "<div>\n",
       "<style scoped>\n",
       "    .dataframe tbody tr th:only-of-type {\n",
       "        vertical-align: middle;\n",
       "    }\n",
       "\n",
       "    .dataframe tbody tr th {\n",
       "        vertical-align: top;\n",
       "    }\n",
       "\n",
       "    .dataframe thead th {\n",
       "        text-align: right;\n",
       "    }\n",
       "</style>\n",
       "<table border=\"1\" class=\"dataframe\">\n",
       "  <thead>\n",
       "    <tr style=\"text-align: right;\">\n",
       "      <th></th>\n",
       "      <th>gender_Female</th>\n",
       "      <th>gender_Male</th>\n",
       "      <th>gender_Other</th>\n",
       "      <th>age</th>\n",
       "      <th>hypertension</th>\n",
       "      <th>heart_disease</th>\n",
       "      <th>smoking_history_never</th>\n",
       "      <th>smoking_history_No Info</th>\n",
       "      <th>smoking_history_current</th>\n",
       "      <th>smoking_history_former</th>\n",
       "      <th>smoking_history_ever</th>\n",
       "      <th>smoking_history_not current</th>\n",
       "      <th>bmi</th>\n",
       "      <th>HbA1c_level</th>\n",
       "      <th>blood_glucose_level</th>\n",
       "    </tr>\n",
       "  </thead>\n",
       "  <tbody>\n",
       "    <tr>\n",
       "      <th>0</th>\n",
       "      <td>1.0</td>\n",
       "      <td>0.0</td>\n",
       "      <td>0.0</td>\n",
       "      <td>80.0</td>\n",
       "      <td>0.0</td>\n",
       "      <td>1.0</td>\n",
       "      <td>1.0</td>\n",
       "      <td>0.0</td>\n",
       "      <td>0.0</td>\n",
       "      <td>0.0</td>\n",
       "      <td>0.0</td>\n",
       "      <td>0.0</td>\n",
       "      <td>25.19</td>\n",
       "      <td>6.6</td>\n",
       "      <td>140.0</td>\n",
       "    </tr>\n",
       "    <tr>\n",
       "      <th>1</th>\n",
       "      <td>1.0</td>\n",
       "      <td>0.0</td>\n",
       "      <td>0.0</td>\n",
       "      <td>54.0</td>\n",
       "      <td>0.0</td>\n",
       "      <td>0.0</td>\n",
       "      <td>0.0</td>\n",
       "      <td>1.0</td>\n",
       "      <td>0.0</td>\n",
       "      <td>0.0</td>\n",
       "      <td>0.0</td>\n",
       "      <td>0.0</td>\n",
       "      <td>27.32</td>\n",
       "      <td>6.6</td>\n",
       "      <td>80.0</td>\n",
       "    </tr>\n",
       "    <tr>\n",
       "      <th>2</th>\n",
       "      <td>0.0</td>\n",
       "      <td>1.0</td>\n",
       "      <td>0.0</td>\n",
       "      <td>28.0</td>\n",
       "      <td>0.0</td>\n",
       "      <td>0.0</td>\n",
       "      <td>1.0</td>\n",
       "      <td>0.0</td>\n",
       "      <td>0.0</td>\n",
       "      <td>0.0</td>\n",
       "      <td>0.0</td>\n",
       "      <td>0.0</td>\n",
       "      <td>27.32</td>\n",
       "      <td>5.7</td>\n",
       "      <td>158.0</td>\n",
       "    </tr>\n",
       "    <tr>\n",
       "      <th>3</th>\n",
       "      <td>1.0</td>\n",
       "      <td>0.0</td>\n",
       "      <td>0.0</td>\n",
       "      <td>36.0</td>\n",
       "      <td>0.0</td>\n",
       "      <td>0.0</td>\n",
       "      <td>0.0</td>\n",
       "      <td>0.0</td>\n",
       "      <td>1.0</td>\n",
       "      <td>0.0</td>\n",
       "      <td>0.0</td>\n",
       "      <td>0.0</td>\n",
       "      <td>23.45</td>\n",
       "      <td>5.0</td>\n",
       "      <td>155.0</td>\n",
       "    </tr>\n",
       "    <tr>\n",
       "      <th>4</th>\n",
       "      <td>0.0</td>\n",
       "      <td>1.0</td>\n",
       "      <td>0.0</td>\n",
       "      <td>76.0</td>\n",
       "      <td>1.0</td>\n",
       "      <td>1.0</td>\n",
       "      <td>0.0</td>\n",
       "      <td>0.0</td>\n",
       "      <td>1.0</td>\n",
       "      <td>0.0</td>\n",
       "      <td>0.0</td>\n",
       "      <td>0.0</td>\n",
       "      <td>20.14</td>\n",
       "      <td>4.8</td>\n",
       "      <td>155.0</td>\n",
       "    </tr>\n",
       "    <tr>\n",
       "      <th>...</th>\n",
       "      <td>...</td>\n",
       "      <td>...</td>\n",
       "      <td>...</td>\n",
       "      <td>...</td>\n",
       "      <td>...</td>\n",
       "      <td>...</td>\n",
       "      <td>...</td>\n",
       "      <td>...</td>\n",
       "      <td>...</td>\n",
       "      <td>...</td>\n",
       "      <td>...</td>\n",
       "      <td>...</td>\n",
       "      <td>...</td>\n",
       "      <td>...</td>\n",
       "      <td>...</td>\n",
       "    </tr>\n",
       "    <tr>\n",
       "      <th>99995</th>\n",
       "      <td>1.0</td>\n",
       "      <td>0.0</td>\n",
       "      <td>0.0</td>\n",
       "      <td>80.0</td>\n",
       "      <td>0.0</td>\n",
       "      <td>0.0</td>\n",
       "      <td>0.0</td>\n",
       "      <td>1.0</td>\n",
       "      <td>0.0</td>\n",
       "      <td>0.0</td>\n",
       "      <td>0.0</td>\n",
       "      <td>0.0</td>\n",
       "      <td>27.32</td>\n",
       "      <td>6.2</td>\n",
       "      <td>90.0</td>\n",
       "    </tr>\n",
       "    <tr>\n",
       "      <th>99996</th>\n",
       "      <td>1.0</td>\n",
       "      <td>0.0</td>\n",
       "      <td>0.0</td>\n",
       "      <td>2.0</td>\n",
       "      <td>0.0</td>\n",
       "      <td>0.0</td>\n",
       "      <td>0.0</td>\n",
       "      <td>1.0</td>\n",
       "      <td>0.0</td>\n",
       "      <td>0.0</td>\n",
       "      <td>0.0</td>\n",
       "      <td>0.0</td>\n",
       "      <td>17.37</td>\n",
       "      <td>6.5</td>\n",
       "      <td>100.0</td>\n",
       "    </tr>\n",
       "    <tr>\n",
       "      <th>99997</th>\n",
       "      <td>0.0</td>\n",
       "      <td>1.0</td>\n",
       "      <td>0.0</td>\n",
       "      <td>66.0</td>\n",
       "      <td>0.0</td>\n",
       "      <td>0.0</td>\n",
       "      <td>0.0</td>\n",
       "      <td>0.0</td>\n",
       "      <td>0.0</td>\n",
       "      <td>1.0</td>\n",
       "      <td>0.0</td>\n",
       "      <td>0.0</td>\n",
       "      <td>27.83</td>\n",
       "      <td>5.7</td>\n",
       "      <td>155.0</td>\n",
       "    </tr>\n",
       "    <tr>\n",
       "      <th>99998</th>\n",
       "      <td>1.0</td>\n",
       "      <td>0.0</td>\n",
       "      <td>0.0</td>\n",
       "      <td>24.0</td>\n",
       "      <td>0.0</td>\n",
       "      <td>0.0</td>\n",
       "      <td>1.0</td>\n",
       "      <td>0.0</td>\n",
       "      <td>0.0</td>\n",
       "      <td>0.0</td>\n",
       "      <td>0.0</td>\n",
       "      <td>0.0</td>\n",
       "      <td>35.42</td>\n",
       "      <td>4.0</td>\n",
       "      <td>100.0</td>\n",
       "    </tr>\n",
       "    <tr>\n",
       "      <th>99999</th>\n",
       "      <td>1.0</td>\n",
       "      <td>0.0</td>\n",
       "      <td>0.0</td>\n",
       "      <td>57.0</td>\n",
       "      <td>0.0</td>\n",
       "      <td>0.0</td>\n",
       "      <td>0.0</td>\n",
       "      <td>0.0</td>\n",
       "      <td>1.0</td>\n",
       "      <td>0.0</td>\n",
       "      <td>0.0</td>\n",
       "      <td>0.0</td>\n",
       "      <td>22.43</td>\n",
       "      <td>6.6</td>\n",
       "      <td>90.0</td>\n",
       "    </tr>\n",
       "  </tbody>\n",
       "</table>\n",
       "<p>100000 rows × 15 columns</p>\n",
       "</div>"
      ],
      "text/plain": [
       "       gender_Female  gender_Male  gender_Other   age  hypertension  \\\n",
       "0                1.0          0.0           0.0  80.0           0.0   \n",
       "1                1.0          0.0           0.0  54.0           0.0   \n",
       "2                0.0          1.0           0.0  28.0           0.0   \n",
       "3                1.0          0.0           0.0  36.0           0.0   \n",
       "4                0.0          1.0           0.0  76.0           1.0   \n",
       "...              ...          ...           ...   ...           ...   \n",
       "99995            1.0          0.0           0.0  80.0           0.0   \n",
       "99996            1.0          0.0           0.0   2.0           0.0   \n",
       "99997            0.0          1.0           0.0  66.0           0.0   \n",
       "99998            1.0          0.0           0.0  24.0           0.0   \n",
       "99999            1.0          0.0           0.0  57.0           0.0   \n",
       "\n",
       "       heart_disease  smoking_history_never  smoking_history_No Info  \\\n",
       "0                1.0                    1.0                      0.0   \n",
       "1                0.0                    0.0                      1.0   \n",
       "2                0.0                    1.0                      0.0   \n",
       "3                0.0                    0.0                      0.0   \n",
       "4                1.0                    0.0                      0.0   \n",
       "...              ...                    ...                      ...   \n",
       "99995            0.0                    0.0                      1.0   \n",
       "99996            0.0                    0.0                      1.0   \n",
       "99997            0.0                    0.0                      0.0   \n",
       "99998            0.0                    1.0                      0.0   \n",
       "99999            0.0                    0.0                      0.0   \n",
       "\n",
       "       smoking_history_current  smoking_history_former  smoking_history_ever  \\\n",
       "0                          0.0                     0.0                   0.0   \n",
       "1                          0.0                     0.0                   0.0   \n",
       "2                          0.0                     0.0                   0.0   \n",
       "3                          1.0                     0.0                   0.0   \n",
       "4                          1.0                     0.0                   0.0   \n",
       "...                        ...                     ...                   ...   \n",
       "99995                      0.0                     0.0                   0.0   \n",
       "99996                      0.0                     0.0                   0.0   \n",
       "99997                      0.0                     1.0                   0.0   \n",
       "99998                      0.0                     0.0                   0.0   \n",
       "99999                      1.0                     0.0                   0.0   \n",
       "\n",
       "       smoking_history_not current    bmi  HbA1c_level  blood_glucose_level  \n",
       "0                              0.0  25.19          6.6                140.0  \n",
       "1                              0.0  27.32          6.6                 80.0  \n",
       "2                              0.0  27.32          5.7                158.0  \n",
       "3                              0.0  23.45          5.0                155.0  \n",
       "4                              0.0  20.14          4.8                155.0  \n",
       "...                            ...    ...          ...                  ...  \n",
       "99995                          0.0  27.32          6.2                 90.0  \n",
       "99996                          0.0  17.37          6.5                100.0  \n",
       "99997                          0.0  27.83          5.7                155.0  \n",
       "99998                          0.0  35.42          4.0                100.0  \n",
       "99999                          0.0  22.43          6.6                 90.0  \n",
       "\n",
       "[100000 rows x 15 columns]"
      ]
     },
     "execution_count": 28,
     "metadata": {},
     "output_type": "execute_result"
    }
   ],
   "source": [
    "pd.DataFrame(X, columns = [\"gender_Female\",\"gender_Male\",\"gender_Other\",\"age\",\"hypertension\",\"heart_disease\",\"smoking_history_never\",\"smoking_history_No Info\",\"smoking_history_current\",\"smoking_history_former\",\"smoking_history_ever\",\"smoking_history_not current\",\"bmi\",\"HbA1c_level\",\"blood_glucose_level\"])"
   ]
  },
  {
   "cell_type": "code",
   "execution_count": 29,
   "metadata": {},
   "outputs": [
    {
     "data": {
      "text/html": [
       "<div>\n",
       "<style scoped>\n",
       "    .dataframe tbody tr th:only-of-type {\n",
       "        vertical-align: middle;\n",
       "    }\n",
       "\n",
       "    .dataframe tbody tr th {\n",
       "        vertical-align: top;\n",
       "    }\n",
       "\n",
       "    .dataframe thead th {\n",
       "        text-align: right;\n",
       "    }\n",
       "</style>\n",
       "<table border=\"1\" class=\"dataframe\">\n",
       "  <thead>\n",
       "    <tr style=\"text-align: right;\">\n",
       "      <th></th>\n",
       "      <th>diabetes</th>\n",
       "    </tr>\n",
       "  </thead>\n",
       "  <tbody>\n",
       "    <tr>\n",
       "      <th>0</th>\n",
       "      <td>0</td>\n",
       "    </tr>\n",
       "    <tr>\n",
       "      <th>1</th>\n",
       "      <td>0</td>\n",
       "    </tr>\n",
       "    <tr>\n",
       "      <th>2</th>\n",
       "      <td>0</td>\n",
       "    </tr>\n",
       "    <tr>\n",
       "      <th>3</th>\n",
       "      <td>0</td>\n",
       "    </tr>\n",
       "    <tr>\n",
       "      <th>4</th>\n",
       "      <td>0</td>\n",
       "    </tr>\n",
       "    <tr>\n",
       "      <th>...</th>\n",
       "      <td>...</td>\n",
       "    </tr>\n",
       "    <tr>\n",
       "      <th>99995</th>\n",
       "      <td>0</td>\n",
       "    </tr>\n",
       "    <tr>\n",
       "      <th>99996</th>\n",
       "      <td>0</td>\n",
       "    </tr>\n",
       "    <tr>\n",
       "      <th>99997</th>\n",
       "      <td>0</td>\n",
       "    </tr>\n",
       "    <tr>\n",
       "      <th>99998</th>\n",
       "      <td>0</td>\n",
       "    </tr>\n",
       "    <tr>\n",
       "      <th>99999</th>\n",
       "      <td>0</td>\n",
       "    </tr>\n",
       "  </tbody>\n",
       "</table>\n",
       "<p>100000 rows × 1 columns</p>\n",
       "</div>"
      ],
      "text/plain": [
       "       diabetes\n",
       "0             0\n",
       "1             0\n",
       "2             0\n",
       "3             0\n",
       "4             0\n",
       "...         ...\n",
       "99995         0\n",
       "99996         0\n",
       "99997         0\n",
       "99998         0\n",
       "99999         0\n",
       "\n",
       "[100000 rows x 1 columns]"
      ]
     },
     "execution_count": 29,
     "metadata": {},
     "output_type": "execute_result"
    }
   ],
   "source": [
    "pd.DataFrame(y, columns = [\"diabetes\"])"
   ]
  },
  {
   "cell_type": "code",
   "execution_count": 30,
   "metadata": {
    "colab": {
     "base_uri": "https://localhost:8080/",
     "height": 137
    },
    "colab_type": "code",
    "id": "VYP9cQTWbzuI",
    "outputId": "797e7a64-9bac-436a-8c9c-94437e5e7587"
   },
   "outputs": [
    {
     "data": {
      "text/plain": [
       "array([[  1.  ,   0.  ,   0.  , ...,  25.19,   6.6 , 140.  ],\n",
       "       [  1.  ,   0.  ,   0.  , ...,  27.32,   6.6 ,  80.  ],\n",
       "       [  0.  ,   1.  ,   0.  , ...,  27.32,   5.7 , 158.  ],\n",
       "       ...,\n",
       "       [  0.  ,   1.  ,   0.  , ...,  27.83,   5.7 , 155.  ],\n",
       "       [  1.  ,   0.  ,   0.  , ...,  35.42,   4.  , 100.  ],\n",
       "       [  1.  ,   0.  ,   0.  , ...,  22.43,   6.6 ,  90.  ]])"
      ]
     },
     "execution_count": 30,
     "metadata": {},
     "output_type": "execute_result"
    }
   ],
   "source": [
    "X"
   ]
  },
  {
   "cell_type": "code",
   "execution_count": 31,
   "metadata": {
    "colab": {
     "base_uri": "https://localhost:8080/",
     "height": 34
    },
    "colab_type": "code",
    "id": "38vKGE6Nb2RR",
    "outputId": "a815e42a-e0dd-4cb5-ab97-b17ead98fbc3"
   },
   "outputs": [
    {
     "data": {
      "text/plain": [
       "array([0, 0, 0, ..., 0, 0, 0], dtype=int64)"
      ]
     },
     "execution_count": 31,
     "metadata": {},
     "output_type": "execute_result"
    }
   ],
   "source": [
    "y"
   ]
  },
  {
   "cell_type": "markdown",
   "metadata": {
    "colab_type": "text",
    "id": "N6bQ0UgSU-NJ"
   },
   "source": [
    "### Encoding categorical data"
   ]
  },
  {
   "cell_type": "markdown",
   "metadata": {
    "colab_type": "text",
    "id": "le5MJreAbW52"
   },
   "source": [
    "Label Encoding the \"Gender\" column"
   ]
  },
  {
   "cell_type": "code",
   "execution_count": null,
   "metadata": {
    "colab": {},
    "colab_type": "code",
    "id": "PxVKWXxLbczC"
   },
   "outputs": [],
   "source": [
    "from sklearn.preprocessing import LabelEncoder\n",
    "le = LabelEncoder()\n",
    "X[:, 2] = le.fit_transform(X[:, 2])"
   ]
  },
  {
   "cell_type": "code",
   "execution_count": null,
   "metadata": {
    "colab": {
     "base_uri": "https://localhost:8080/",
     "height": 137
    },
    "colab_type": "code",
    "id": "-M1KboxFb6OO",
    "outputId": "e2b8c7e8-0cbc-4cdf-f4eb-7f0853a00b88"
   },
   "outputs": [],
   "source": [
    "print(X)"
   ]
  },
  {
   "cell_type": "markdown",
   "metadata": {
    "colab_type": "text",
    "id": "CUxGZezpbMcb"
   },
   "source": [
    "One Hot Encoding the \"Geography\" column"
   ]
  },
  {
   "cell_type": "code",
   "execution_count": null,
   "metadata": {
    "colab": {},
    "colab_type": "code",
    "id": "AMXC8-KMVirw"
   },
   "outputs": [],
   "source": [
    "from sklearn.compose import ColumnTransformer\n",
    "from sklearn.preprocessing import OneHotEncoder\n",
    "ct = ColumnTransformer(transformers=[('encoder', OneHotEncoder(), [1])], remainder='passthrough')\n",
    "X = np.array(ct.fit_transform(X))"
   ]
  },
  {
   "cell_type": "code",
   "execution_count": null,
   "metadata": {
    "colab": {
     "base_uri": "https://localhost:8080/",
     "height": 137
    },
    "colab_type": "code",
    "id": "ZcxwEon-b8nV",
    "outputId": "23a98af4-5e33-4b26-c27b-f06e3c5d2baf"
   },
   "outputs": [],
   "source": [
    "print(X)"
   ]
  },
  {
   "cell_type": "markdown",
   "metadata": {
    "colab_type": "text",
    "id": "vHol938cW8zd"
   },
   "source": [
    "### Splitting the dataset into the Training set and Test set"
   ]
  },
  {
   "cell_type": "code",
   "execution_count": 32,
   "metadata": {
    "colab": {},
    "colab_type": "code",
    "id": "Z-TDt0Y_XEfc"
   },
   "outputs": [],
   "source": [
    "from sklearn.model_selection import train_test_split\n",
    "X_train, X_test, y_train, y_test = train_test_split(X, y, test_size = 0.2, random_state = 0)"
   ]
  },
  {
   "cell_type": "markdown",
   "metadata": {
    "colab_type": "text",
    "id": "RE_FcHyfV3TQ"
   },
   "source": [
    "### Feature Scaling"
   ]
  },
  {
   "cell_type": "code",
   "execution_count": 33,
   "metadata": {
    "colab": {},
    "colab_type": "code",
    "id": "ViCrE00rV8Sk"
   },
   "outputs": [],
   "source": [
    "from sklearn.preprocessing import StandardScaler\n",
    "sc = StandardScaler()\n",
    "X_train = sc.fit_transform(X_train)\n",
    "X_test = sc.transform(X_test)"
   ]
  },
  {
   "cell_type": "markdown",
   "metadata": {
    "colab_type": "text",
    "id": "-zfEzkRVXIwF"
   },
   "source": [
    "## Part 2 - Building the ANN"
   ]
  },
  {
   "cell_type": "markdown",
   "metadata": {
    "colab_type": "text",
    "id": "KvdeScabXtlB"
   },
   "source": [
    "### Initializing the ANN"
   ]
  },
  {
   "cell_type": "code",
   "execution_count": 34,
   "metadata": {
    "colab": {},
    "colab_type": "code",
    "id": "3dtrScHxXQox"
   },
   "outputs": [],
   "source": [
    "ann = tf.keras.models.Sequential()"
   ]
  },
  {
   "cell_type": "markdown",
   "metadata": {
    "colab_type": "text",
    "id": "rP6urV6SX7kS"
   },
   "source": [
    "### Adding the input layer and the first hidden layer"
   ]
  },
  {
   "cell_type": "code",
   "execution_count": 35,
   "metadata": {
    "colab": {},
    "colab_type": "code",
    "id": "bppGycBXYCQr"
   },
   "outputs": [],
   "source": [
    "ann.add(tf.keras.layers.Dense(units=6, activation='relu'))"
   ]
  },
  {
   "cell_type": "markdown",
   "metadata": {
    "colab_type": "text",
    "id": "BELWAc_8YJze"
   },
   "source": [
    "### Adding the second hidden layer\n"
   ]
  },
  {
   "cell_type": "code",
   "execution_count": 36,
   "metadata": {
    "colab": {},
    "colab_type": "code",
    "id": "JneR0u0sYRTd"
   },
   "outputs": [],
   "source": [
    "ann.add(tf.keras.layers.Dense(units=6, activation='relu'))"
   ]
  },
  {
   "cell_type": "markdown",
   "metadata": {
    "colab_type": "text",
    "id": "OyNEe6RXYcU4"
   },
   "source": [
    "### Adding the output layer"
   ]
  },
  {
   "cell_type": "code",
   "execution_count": 37,
   "metadata": {
    "colab": {},
    "colab_type": "code",
    "id": "Cn3x41RBYfvY"
   },
   "outputs": [],
   "source": [
    "ann.add(tf.keras.layers.Dense(units=1, activation='sigmoid'))"
   ]
  },
  {
   "cell_type": "markdown",
   "metadata": {
    "colab_type": "text",
    "id": "JT4u2S1_Y4WG"
   },
   "source": [
    "## Part 3 - Training the ANN"
   ]
  },
  {
   "cell_type": "markdown",
   "metadata": {
    "colab_type": "text",
    "id": "8GWlJChhY_ZI"
   },
   "source": [
    "### Compiling the ANN"
   ]
  },
  {
   "cell_type": "code",
   "execution_count": 38,
   "metadata": {
    "colab": {},
    "colab_type": "code",
    "id": "fG3RrwDXZEaS"
   },
   "outputs": [],
   "source": [
    "ann.compile(optimizer = 'adam', loss = 'binary_crossentropy', metrics = ['accuracy'])"
   ]
  },
  {
   "cell_type": "markdown",
   "metadata": {
    "colab_type": "text",
    "id": "0QR_G5u7ZLSM"
   },
   "source": [
    "### Training the ANN on the Training set"
   ]
  },
  {
   "cell_type": "code",
   "execution_count": 39,
   "metadata": {
    "colab": {
     "base_uri": "https://localhost:8080/",
     "height": 1000
    },
    "colab_type": "code",
    "id": "nHZ-LKv_ZRb3",
    "outputId": "718cc4b0-b5aa-40f0-9b20-d3d31730a531"
   },
   "outputs": [
    {
     "name": "stdout",
     "output_type": "stream",
     "text": [
      "Epoch 1/100\n",
      "2500/2500 [==============================] - 5s 2ms/step - loss: 0.1635 - accuracy: 0.9448\n",
      "Epoch 2/100\n",
      "2500/2500 [==============================] - 4s 2ms/step - loss: 0.1151 - accuracy: 0.9592\n",
      "Epoch 3/100\n",
      "2500/2500 [==============================] - 5s 2ms/step - loss: 0.1137 - accuracy: 0.9598\n",
      "Epoch 4/100\n",
      "2500/2500 [==============================] - 5s 2ms/step - loss: 0.1129 - accuracy: 0.9604\n",
      "Epoch 5/100\n",
      "2500/2500 [==============================] - 5s 2ms/step - loss: 0.1124 - accuracy: 0.9603\n",
      "Epoch 6/100\n",
      "2500/2500 [==============================] - 5s 2ms/step - loss: 0.1118 - accuracy: 0.9607\n",
      "Epoch 7/100\n",
      "2500/2500 [==============================] - 5s 2ms/step - loss: 0.1115 - accuracy: 0.9604\n",
      "Epoch 8/100\n",
      "2500/2500 [==============================] - 5s 2ms/step - loss: 0.1110 - accuracy: 0.9607\n",
      "Epoch 9/100\n",
      "2500/2500 [==============================] - 5s 2ms/step - loss: 0.1108 - accuracy: 0.9609\n",
      "Epoch 10/100\n",
      "2500/2500 [==============================] - 5s 2ms/step - loss: 0.1104 - accuracy: 0.9607\n",
      "Epoch 11/100\n",
      "2500/2500 [==============================] - 5s 2ms/step - loss: 0.1101 - accuracy: 0.9606\n",
      "Epoch 12/100\n",
      "2500/2500 [==============================] - 6s 2ms/step - loss: 0.1095 - accuracy: 0.9607\n",
      "Epoch 13/100\n",
      "2500/2500 [==============================] - 6s 2ms/step - loss: 0.1092 - accuracy: 0.9609\n",
      "Epoch 14/100\n",
      "2500/2500 [==============================] - 4s 2ms/step - loss: 0.1088 - accuracy: 0.9611\n",
      "Epoch 15/100\n",
      "2500/2500 [==============================] - 6s 2ms/step - loss: 0.1085 - accuracy: 0.9614\n",
      "Epoch 16/100\n",
      "2500/2500 [==============================] - 7s 3ms/step - loss: 0.1084 - accuracy: 0.9611\n",
      "Epoch 17/100\n",
      "2500/2500 [==============================] - 6s 2ms/step - loss: 0.1075 - accuracy: 0.9615\n",
      "Epoch 18/100\n",
      "2500/2500 [==============================] - 5s 2ms/step - loss: 0.1056 - accuracy: 0.9630\n",
      "Epoch 19/100\n",
      "2500/2500 [==============================] - 5s 2ms/step - loss: 0.1046 - accuracy: 0.9637\n",
      "Epoch 20/100\n",
      "2500/2500 [==============================] - 5s 2ms/step - loss: 0.1038 - accuracy: 0.9635\n",
      "Epoch 21/100\n",
      "2500/2500 [==============================] - 5s 2ms/step - loss: 0.1032 - accuracy: 0.9640\n",
      "Epoch 22/100\n",
      "2500/2500 [==============================] - 5s 2ms/step - loss: 0.1023 - accuracy: 0.9643\n",
      "Epoch 23/100\n",
      "2500/2500 [==============================] - 5s 2ms/step - loss: 0.1015 - accuracy: 0.9645\n",
      "Epoch 24/100\n",
      "2500/2500 [==============================] - 5s 2ms/step - loss: 0.1007 - accuracy: 0.9648\n",
      "Epoch 25/100\n",
      "2500/2500 [==============================] - 5s 2ms/step - loss: 0.0998 - accuracy: 0.9651\n",
      "Epoch 26/100\n",
      "2500/2500 [==============================] - 5s 2ms/step - loss: 0.0990 - accuracy: 0.9653\n",
      "Epoch 27/100\n",
      "2500/2500 [==============================] - 5s 2ms/step - loss: 0.0981 - accuracy: 0.9660\n",
      "Epoch 28/100\n",
      "2500/2500 [==============================] - 7s 3ms/step - loss: 0.0970 - accuracy: 0.9661\n",
      "Epoch 29/100\n",
      "2500/2500 [==============================] - 7s 3ms/step - loss: 0.0961 - accuracy: 0.9663\n",
      "Epoch 30/100\n",
      "2500/2500 [==============================] - 5s 2ms/step - loss: 0.0954 - accuracy: 0.9666\n",
      "Epoch 31/100\n",
      "2500/2500 [==============================] - 6s 2ms/step - loss: 0.0950 - accuracy: 0.9670\n",
      "Epoch 32/100\n",
      "2500/2500 [==============================] - 5s 2ms/step - loss: 0.0946 - accuracy: 0.9671\n",
      "Epoch 33/100\n",
      "2500/2500 [==============================] - 5s 2ms/step - loss: 0.0943 - accuracy: 0.9668\n",
      "Epoch 34/100\n",
      "2500/2500 [==============================] - 5s 2ms/step - loss: 0.0940 - accuracy: 0.9671\n",
      "Epoch 35/100\n",
      "2500/2500 [==============================] - 5s 2ms/step - loss: 0.0938 - accuracy: 0.9673\n",
      "Epoch 36/100\n",
      "2500/2500 [==============================] - 5s 2ms/step - loss: 0.0936 - accuracy: 0.9672\n",
      "Epoch 37/100\n",
      "2500/2500 [==============================] - 5s 2ms/step - loss: 0.0933 - accuracy: 0.9678\n",
      "Epoch 38/100\n",
      "2500/2500 [==============================] - 5s 2ms/step - loss: 0.0933 - accuracy: 0.9674\n",
      "Epoch 39/100\n",
      "2500/2500 [==============================] - 5s 2ms/step - loss: 0.0930 - accuracy: 0.9675\n",
      "Epoch 40/100\n",
      "2500/2500 [==============================] - 5s 2ms/step - loss: 0.0928 - accuracy: 0.9678\n",
      "Epoch 41/100\n",
      "2500/2500 [==============================] - 7s 3ms/step - loss: 0.0928 - accuracy: 0.9677\n",
      "Epoch 42/100\n",
      "2500/2500 [==============================] - 5s 2ms/step - loss: 0.0928 - accuracy: 0.9677\n",
      "Epoch 43/100\n",
      "2500/2500 [==============================] - 5s 2ms/step - loss: 0.0923 - accuracy: 0.9673\n",
      "Epoch 44/100\n",
      "2500/2500 [==============================] - 5s 2ms/step - loss: 0.0923 - accuracy: 0.9676\n",
      "Epoch 45/100\n",
      "2500/2500 [==============================] - 6s 2ms/step - loss: 0.0921 - accuracy: 0.9678\n",
      "Epoch 46/100\n",
      "2500/2500 [==============================] - 5s 2ms/step - loss: 0.0918 - accuracy: 0.9681\n",
      "Epoch 47/100\n",
      "2500/2500 [==============================] - 4s 2ms/step - loss: 0.0917 - accuracy: 0.9681\n",
      "Epoch 48/100\n",
      "2500/2500 [==============================] - 4s 2ms/step - loss: 0.0918 - accuracy: 0.9679\n",
      "Epoch 49/100\n",
      "2500/2500 [==============================] - 4s 2ms/step - loss: 0.0916 - accuracy: 0.9681\n",
      "Epoch 50/100\n",
      "2500/2500 [==============================] - 4s 2ms/step - loss: 0.0915 - accuracy: 0.9679\n",
      "Epoch 51/100\n",
      "2500/2500 [==============================] - 4s 2ms/step - loss: 0.0915 - accuracy: 0.9680\n",
      "Epoch 52/100\n",
      "2500/2500 [==============================] - 4s 2ms/step - loss: 0.0915 - accuracy: 0.9681\n",
      "Epoch 53/100\n",
      "2500/2500 [==============================] - 4s 2ms/step - loss: 0.0914 - accuracy: 0.9681\n",
      "Epoch 54/100\n",
      "2500/2500 [==============================] - 4s 2ms/step - loss: 0.0913 - accuracy: 0.9681\n",
      "Epoch 55/100\n",
      "2500/2500 [==============================] - 4s 2ms/step - loss: 0.0915 - accuracy: 0.9678\n",
      "Epoch 56/100\n",
      "2500/2500 [==============================] - 4s 2ms/step - loss: 0.0910 - accuracy: 0.9680\n",
      "Epoch 57/100\n",
      "2500/2500 [==============================] - 4s 2ms/step - loss: 0.0910 - accuracy: 0.9679\n",
      "Epoch 58/100\n",
      "2500/2500 [==============================] - 4s 2ms/step - loss: 0.0910 - accuracy: 0.9680\n",
      "Epoch 59/100\n",
      "2500/2500 [==============================] - 4s 2ms/step - loss: 0.0912 - accuracy: 0.9679\n",
      "Epoch 60/100\n",
      "2500/2500 [==============================] - 4s 2ms/step - loss: 0.0910 - accuracy: 0.9680\n",
      "Epoch 61/100\n",
      "2500/2500 [==============================] - 4s 2ms/step - loss: 0.0908 - accuracy: 0.9680\n",
      "Epoch 62/100\n",
      "2500/2500 [==============================] - 4s 2ms/step - loss: 0.0910 - accuracy: 0.9682\n",
      "Epoch 63/100\n",
      "2500/2500 [==============================] - 4s 2ms/step - loss: 0.0908 - accuracy: 0.9680\n",
      "Epoch 64/100\n",
      "2500/2500 [==============================] - 4s 2ms/step - loss: 0.0907 - accuracy: 0.9681\n",
      "Epoch 65/100\n",
      "2500/2500 [==============================] - 4s 2ms/step - loss: 0.0906 - accuracy: 0.9682\n",
      "Epoch 66/100\n",
      "2500/2500 [==============================] - 4s 2ms/step - loss: 0.0906 - accuracy: 0.9681\n",
      "Epoch 67/100\n",
      "2500/2500 [==============================] - 4s 2ms/step - loss: 0.0907 - accuracy: 0.9682\n",
      "Epoch 68/100\n",
      "2500/2500 [==============================] - 4s 2ms/step - loss: 0.0904 - accuracy: 0.9682\n",
      "Epoch 69/100\n",
      "2500/2500 [==============================] - 4s 2ms/step - loss: 0.0905 - accuracy: 0.9681\n",
      "Epoch 70/100\n",
      "2500/2500 [==============================] - 4s 2ms/step - loss: 0.0907 - accuracy: 0.9683\n",
      "Epoch 71/100\n",
      "2500/2500 [==============================] - 4s 2ms/step - loss: 0.0904 - accuracy: 0.9682\n",
      "Epoch 72/100\n",
      "2500/2500 [==============================] - 4s 2ms/step - loss: 0.0904 - accuracy: 0.9683\n",
      "Epoch 73/100\n",
      "2500/2500 [==============================] - 4s 2ms/step - loss: 0.0903 - accuracy: 0.9681\n",
      "Epoch 74/100\n",
      "2500/2500 [==============================] - 4s 2ms/step - loss: 0.0903 - accuracy: 0.9682\n",
      "Epoch 75/100\n",
      "2500/2500 [==============================] - 4s 2ms/step - loss: 0.0905 - accuracy: 0.9683\n",
      "Epoch 76/100\n",
      "2500/2500 [==============================] - 4s 2ms/step - loss: 0.0904 - accuracy: 0.9683\n",
      "Epoch 77/100\n",
      "2500/2500 [==============================] - 4s 2ms/step - loss: 0.0902 - accuracy: 0.9684\n",
      "Epoch 78/100\n",
      "2500/2500 [==============================] - 4s 2ms/step - loss: 0.0902 - accuracy: 0.9686\n",
      "Epoch 79/100\n",
      "2500/2500 [==============================] - 4s 2ms/step - loss: 0.0902 - accuracy: 0.9683\n",
      "Epoch 80/100\n",
      "2500/2500 [==============================] - 4s 2ms/step - loss: 0.0901 - accuracy: 0.9683\n",
      "Epoch 81/100\n",
      "2500/2500 [==============================] - 4s 2ms/step - loss: 0.0904 - accuracy: 0.9685\n",
      "Epoch 82/100\n",
      "2500/2500 [==============================] - 4s 2ms/step - loss: 0.0901 - accuracy: 0.9684\n",
      "Epoch 83/100\n",
      "2500/2500 [==============================] - 4s 2ms/step - loss: 0.0900 - accuracy: 0.9685\n",
      "Epoch 84/100\n",
      "2500/2500 [==============================] - 4s 2ms/step - loss: 0.0902 - accuracy: 0.9681\n",
      "Epoch 85/100\n",
      "2500/2500 [==============================] - 4s 2ms/step - loss: 0.0901 - accuracy: 0.9682\n",
      "Epoch 86/100\n",
      "2500/2500 [==============================] - 4s 2ms/step - loss: 0.0899 - accuracy: 0.9685\n",
      "Epoch 87/100\n",
      "2500/2500 [==============================] - 4s 2ms/step - loss: 0.0899 - accuracy: 0.9683\n",
      "Epoch 88/100\n",
      "2500/2500 [==============================] - 4s 2ms/step - loss: 0.0898 - accuracy: 0.9682\n",
      "Epoch 89/100\n",
      "2500/2500 [==============================] - 4s 2ms/step - loss: 0.0900 - accuracy: 0.9684\n",
      "Epoch 90/100\n",
      "2500/2500 [==============================] - 4s 2ms/step - loss: 0.0899 - accuracy: 0.9685\n",
      "Epoch 91/100\n",
      "2500/2500 [==============================] - 4s 2ms/step - loss: 0.0897 - accuracy: 0.9686\n",
      "Epoch 92/100\n",
      "2500/2500 [==============================] - 4s 2ms/step - loss: 0.0899 - accuracy: 0.9686\n",
      "Epoch 93/100\n",
      "2500/2500 [==============================] - 4s 2ms/step - loss: 0.0896 - accuracy: 0.9682\n",
      "Epoch 94/100\n",
      "2500/2500 [==============================] - 4s 2ms/step - loss: 0.0896 - accuracy: 0.9687\n",
      "Epoch 95/100\n",
      "2500/2500 [==============================] - 4s 2ms/step - loss: 0.0900 - accuracy: 0.9683\n",
      "Epoch 96/100\n",
      "2500/2500 [==============================] - 4s 2ms/step - loss: 0.0896 - accuracy: 0.9686\n",
      "Epoch 97/100\n",
      "2500/2500 [==============================] - 4s 2ms/step - loss: 0.0898 - accuracy: 0.9683\n",
      "Epoch 98/100\n",
      "2500/2500 [==============================] - 4s 2ms/step - loss: 0.0898 - accuracy: 0.9688\n",
      "Epoch 99/100\n",
      "2500/2500 [==============================] - 4s 2ms/step - loss: 0.0896 - accuracy: 0.9685\n",
      "Epoch 100/100\n",
      "2500/2500 [==============================] - 4s 2ms/step - loss: 0.0898 - accuracy: 0.9684\n"
     ]
    },
    {
     "data": {
      "text/plain": [
       "<keras.src.callbacks.History at 0x1b370520150>"
      ]
     },
     "execution_count": 39,
     "metadata": {},
     "output_type": "execute_result"
    }
   ],
   "source": [
    "ann.fit(X_train, y_train, batch_size = 32, epochs = 100)"
   ]
  },
  {
   "cell_type": "markdown",
   "metadata": {
    "colab_type": "text",
    "id": "tJj5k2MxZga3"
   },
   "source": [
    "## Part 4 - Making the predictions and evaluating the model"
   ]
  },
  {
   "cell_type": "markdown",
   "metadata": {
    "colab_type": "text",
    "id": "u7yx47jPZt11"
   },
   "source": [
    "### Predicting the Test set results"
   ]
  },
  {
   "cell_type": "code",
   "execution_count": 40,
   "metadata": {
    "colab": {
     "base_uri": "https://localhost:8080/",
     "height": 137
    },
    "colab_type": "code",
    "id": "nIyEeQdRZwgs",
    "outputId": "82330ba8-9bdc-4fd1-d3cf-b6d78ee7c2a3"
   },
   "outputs": [
    {
     "name": "stdout",
     "output_type": "stream",
     "text": [
      "625/625 [==============================] - 1s 2ms/step\n",
      "[[0 0]\n",
      " [0 0]\n",
      " [0 0]\n",
      " ...\n",
      " [0 0]\n",
      " [0 0]\n",
      " [0 0]]\n"
     ]
    }
   ],
   "source": [
    "y_pred = ann.predict(X_test)\n",
    "y_pred = (y_pred > 0.5)\n",
    "print(np.concatenate((y_pred.reshape(len(y_pred),1), y_test.reshape(len(y_test),1)),1))"
   ]
  },
  {
   "cell_type": "markdown",
   "metadata": {
    "colab_type": "text",
    "id": "o0oyfLWoaEGw"
   },
   "source": [
    "### Making the Confusion Matrix"
   ]
  },
  {
   "cell_type": "code",
   "execution_count": 41,
   "metadata": {
    "colab": {
     "base_uri": "https://localhost:8080/",
     "height": 68
    },
    "colab_type": "code",
    "id": "ci6K_r6LaF6P",
    "outputId": "4d854e9e-22d5-432f-f6e5-a102fe3ae0bd"
   },
   "outputs": [
    {
     "name": "stdout",
     "output_type": "stream",
     "text": [
      "[[18230    67]\n",
      " [  555  1148]]\n"
     ]
    },
    {
     "data": {
      "text/plain": [
       "0.9689"
      ]
     },
     "execution_count": 41,
     "metadata": {},
     "output_type": "execute_result"
    }
   ],
   "source": [
    "from sklearn.metrics import confusion_matrix, accuracy_score\n",
    "import matplotlib.pyplot as plt\n",
    "conf_matrix = confusion_matrix(y_test, y_pred)\n",
    "print(conf_matrix)\n",
    "accuracy_score(y_test, y_pred)"
   ]
  },
  {
   "cell_type": "code",
   "execution_count": 42,
   "metadata": {
    "scrolled": true
   },
   "outputs": [
    {
     "data": {
      "image/png": "[encoded data removed]",
      "text/plain": [
       "<Figure size 750x750 with 1 Axes>"
      ]
     },
     "metadata": {},
     "output_type": "display_data"
    }
   ],
   "source": [
    "fig, ax = plt.subplots(figsize=(7.5, 7.5))\n",
    "ax.matshow(conf_matrix, cmap=plt.cm.Blues, alpha=0.3)\n",
    "for i in range(conf_matrix.shape[0]):\n",
    "    for j in range(conf_matrix.shape[1]):\n",
    "        ax.text(x=j, y=i,s=conf_matrix[i, j], va='center', ha='center', size='xx-large')\n",
    " \n",
    "plt.xlabel('Predictions', fontsize=18)\n",
    "plt.ylabel('Actuals', fontsize=18)\n",
    "plt.title('Confusion Matrix', fontsize=18)\n",
    "plt.show()"
   ]
  },
  {
   "cell_type": "markdown",
   "metadata": {},
   "source": [
    "**Homework**\n",
    "- Use the dataset: https://www.kaggle.com/datasets/iammustafatz/diabetes-prediction-dataset.\n",
    "- Experiment with the number of hidden layers, and the number of units in the hidden layer.\n",
    "- Try to experiment on the activation functions in the hidden layer https://www.tensorflow.org/api_docs/python/tf/keras/activations\n",
    "- Try to experiment with the optimizer: https://www.tensorflow.org/api_docs/python/tf/keras/optimizers\n",
    "- Check the accuracy, specificity, and sensitivity of your model."
   ]
  },
  {
   "cell_type": "code",
   "execution_count": null,
   "metadata": {},
   "outputs": [],
   "source": []
  }
 ],
 "metadata": {
  "colab": {
   "collapsed_sections": [],
   "name": "artificial_neural_network.ipynb",
   "provenance": [],
   "toc_visible": true
  },
  "kernelspec": {
   "display_name": "Python 3 (ipykernel)",
   "language": "python",
   "name": "python3"
  },
  "language_info": {
   "codemirror_mode": {
    "name": "ipython",
    "version": 3
   },
   "file_extension": ".py",
   "mimetype": "text/x-python",
   "name": "python",
   "nbconvert_exporter": "python",
   "pygments_lexer": "ipython3",
   "version": "3.11.3"
  }
 },
 "nbformat": 4,
 "nbformat_minor": 4
}
